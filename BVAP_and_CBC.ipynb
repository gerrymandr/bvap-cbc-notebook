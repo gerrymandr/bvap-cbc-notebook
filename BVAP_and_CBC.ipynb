{
 "cells": [
  {
   "cell_type": "markdown",
   "metadata": {},
   "source": [
    "# BVAP and Membership in the Congressional Black Caucus\n",
    "\n",
    "In this notebook, we explore the relationship between the Black Voting Age Population (BVAP) of a congressional district\n",
    "\n",
    "Data on Citizen Voting Age Population is drawn from [the 2012-2016 American Community Survey 5 year Estimates](https://www.census.gov/programs-surveys/decennial-census/about/voting-rights/cvap.html). The relevant file, `CD.csv`, is included in this repository for convenience.\n",
    "\n",
    "Data on Congressional Black Caucus membership (`cbc.csv`) was parsed from the [Wikipedia article](https://en.wikipedia.org/wiki/Congressional_Black_Caucus#Membership) for the Congressional Black Caucus (accessed 10/9/2018). We added Rep. John Conyers (who represented Michigan's 13th Congressional District until 2017) to the dataset to reflect the Caucus's membership after the 2016 election."
   ]
  },
  {
   "cell_type": "markdown",
   "metadata": {},
   "source": []
  },
  {
   "cell_type": "code",
   "execution_count": 28,
   "metadata": {},
   "outputs": [],
   "source": [
    "import pandas\n",
    "import matplotlib.pyplot"
   ]
  },
  {
   "cell_type": "code",
   "execution_count": 2,
   "metadata": {},
   "outputs": [],
   "source": [
    "df = pandas.read_csv(\"./raw/CD.csv\")"
   ]
  },
  {
   "cell_type": "code",
   "execution_count": 26,
   "metadata": {},
   "outputs": [],
   "source": [
    "bvap = df[df[\"LNNUMBER\"] == 5][[\"GEOID\", \"CVAP_EST\"]].set_index(\"GEOID\")[\"CVAP_EST\"]\n",
    "total_cvap = df[df[\"LNNUMBER\"] == 1][[\"GEOID\", \"CVAP_EST\"]].set_index(\"GEOID\")[\"CVAP_EST\"]\n",
    "total_pop = df[df[\"LNNUMBER\"] == 1][[\"GEOID\", \"TOT_EST\"]].set_index(\"GEOID\")[\"TOT_EST\"]\n",
    "black_pop = df[df[\"LNNUMBER\"] == 5][[\"GEOID\", \"TOT_EST\"]].set_index(\"GEOID\")[\"TOT_EST\"]\n",
    "display_name = df[df[\"LNNUMBER\"] == 1][[\"GEOID\", \"GEONAME\"]].set_index(\"GEOID\")[\"GEONAME\"]\n",
    "\n",
    "tidy_df = pandas.DataFrame({\n",
    "    \"display_name\": display_name,\n",
    "    \"bvap\": bvap,\n",
    "    \"cvap\": total_cvap,\n",
    "    \"bvap_pct\": bvap / total_cvap,\n",
    "    \"black_pop\": black_pop,\n",
    "    \"total_pop\": total_pop,\n",
    "    \"black_pct\": black_pop / total_pop\n",
    "})"
   ]
  },
  {
   "cell_type": "code",
   "execution_count": 31,
   "metadata": {},
   "outputs": [
    {
     "data": {
      "text/plain": [
       "<matplotlib.axes._subplots.AxesSubplot at 0x175db45c780>"
      ]
     },
     "execution_count": 31,
     "metadata": {},
     "output_type": "execute_result"
    },
    {
     "data": {
      "image/png": "[encoded data removed]",
      "text/plain": [
       "<Figure size 432x288 with 1 Axes>"
      ]
     },
     "metadata": {},
     "output_type": "display_data"
    }
   ],
   "source": [
    "tidy_df.plot.scatter(x=\"black_pct\", y=\"bvap_pct\")"
   ]
  },
  {
   "cell_type": "code",
   "execution_count": 33,
   "metadata": {},
   "outputs": [],
   "source": [
    "tidy_df.to_csv(\"./cvap.csv\")"
   ]
  },
  {
   "cell_type": "code",
   "execution_count": 40,
   "metadata": {},
   "outputs": [],
   "source": [
    "df = pandas.read_csv(\"./cbc.csv\")"
   ]
  },
  {
   "cell_type": "code",
   "execution_count": 43,
   "metadata": {},
   "outputs": [],
   "source": [
    "fips_to_state_name = {'01': 'Alabama', '02': 'Alaska', '04': 'Arizona', '05': 'Arkansas',\n",
    "                      '06': 'California', '08': 'Colorado', '09': 'Connecticut', '10': 'Delaware',\n",
    "                      '11': 'District of Columbia', '12': 'Florida', '13': 'Georgia',\n",
    "                      '15': 'Hawaii', '16': 'Idaho', '17': 'Illinois', '18': 'Indiana',\n",
    "                      '19': 'Iowa', '20': 'Kansas', '21': 'Kentucky', '22': 'Louisiana',\n",
    "                      '23': 'Maine', '24': 'Maryland', '25': 'Massachusetts', '26': 'Michigan',\n",
    "                      '27': 'Minnesota', '28': 'Mississippi', '29': 'Missouri', '30': 'Montana',\n",
    "                      '31': 'Nebraska', '32': 'Nevada', '33': 'New Hampshire', '34': 'New Jersey',\n",
    "                      '35': 'New Mexico', '36': 'New York', '37': 'North Carolina',\n",
    "                      '38': 'North Dakota', '39': 'Ohio', '40': 'Oklahoma', '41': 'Oregon',\n",
    "                      '42': 'Pennsylvania', '44': 'Rhode Island', '45': 'South Carolina',\n",
    "                      '46': 'South Dakota', '47': 'Tennessee', '48': 'Texas', '49': 'Utah',\n",
    "                      '50': 'Vermont', '51': 'Virginia', '53': 'Washington', '54': 'West Virginia',\n",
    "                      '55': 'Wisconsin', '56': 'Wyoming'}\n",
    "\n",
    "state_name_to_fips = {value: key for key, value in fips_to_state_name.items()}"
   ]
  },
  {
   "cell_type": "code",
   "execution_count": 46,
   "metadata": {},
   "outputs": [],
   "source": [
    "def parse_geoid(cd_value):\n",
    "    split_string = cd_value.split(\"-\")\n",
    "    state = split_string[0].strip()\n",
    "    fips = state_name_to_fips[state]\n",
    "    district = split_string[-1][:-2].strip().zfill(2)\n",
    "    return \"50000US\" + fips + district\n",
    "\n",
    "df[\"GEOID\"] = df[\"cd\"].apply(parse_geoid)"
   ]
  },
  {
   "cell_type": "code",
   "execution_count": 48,
   "metadata": {},
   "outputs": [
    {
     "data": {
      "text/plain": [
       "0     50000US3712\n",
       "1     50000US0637\n",
       "2     50000US3903\n",
       "3     50000US1302\n",
       "4     50000US1001\n",
       "5     50000US2404\n",
       "6     50000US3701\n",
       "7     50000US1807\n",
       "8     50000US3609\n",
       "9     50000US2901\n",
       "10    50000US2905\n",
       "11    50000US4506\n",
       "12    50000US2613\n",
       "13    50000US2407\n",
       "14    50000US1707\n",
       "15    50000US1210\n",
       "16    50000US2705\n",
       "17    50000US4202\n",
       "18    50000US3911\n",
       "19    50000US4809\n",
       "20    50000US1220\n",
       "21    50000US4823\n",
       "22    50000US3608\n",
       "23    50000US4830\n",
       "24    50000US1304\n",
       "25    50000US1702\n",
       "26    50000US2614\n",
       "27    50000US1205\n",
       "28    50000US0613\n",
       "29    50000US4818\n",
       "30    50000US1305\n",
       "31    50000US4904\n",
       "32    50000US5104\n",
       "33    50000US3605\n",
       "34    50000US5504\n",
       "35    50000US3410\n",
       "36    50000US2202\n",
       "37    50000US1701\n",
       "38    50000US5103\n",
       "39    50000US1313\n",
       "40    50000US0107\n",
       "41    50000US2802\n",
       "42    50000US4833\n",
       "43    50000US0643\n",
       "44    50000US3412\n",
       "45    50000US1224\n",
       "Name: GEOID, dtype: object"
      ]
     },
     "execution_count": 48,
     "metadata": {},
     "output_type": "execute_result"
    }
   ],
   "source": [
    "df[\"GEOID\"]"
   ]
  }
 ],
 "metadata": {
  "kernelspec": {
   "display_name": "Python 3",
   "language": "python",
   "name": "python3"
  },
  "language_info": {
   "codemirror_mode": {
    "name": "ipython",
    "version": 3
   },
   "file_extension": ".py",
   "mimetype": "text/x-python",
   "name": "python",
   "nbconvert_exporter": "python",
   "pygments_lexer": "ipython3",
   "version": "3.6.6"
  }
 },
 "nbformat": 4,
 "nbformat_minor": 2
}
